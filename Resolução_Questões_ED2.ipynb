{
 "cells": [
  {
   "cell_type": "markdown",
   "metadata": {
    "id": "6tBo3gVsn-SY"
   },
   "source": [
    "1. Determine a frequência máxima  para um contador síncrono de 4 bits e para um contador assíncrono de Módulo 32. Dado o tempo de atraso de cada FF ( 20 ns) e o tempo de atraso de cada porta (10 ns). \n",
    "\n",
    "**Solução:**\n",
    "\n",
    "a) Síncrono  Atraso total = tpd do FF + tpd da porta AND\n",
    "\n",
    "$t_{atTotal} = 20ns + 10 ns = 30ns$\n",
    "\n",
    "$f = \\frac{1}{t_{atTotal}}$\n",
    "\n",
    "$f = \\frac{1}{30ns}$\n",
    "\n",
    "$f =33.3 MHz$\n",
    "\n",
    "\n",
    "b) Assíncrono  Atraso total = tpd do FF x N, módulo 32 necessita de N = 5 bits\n",
    "\n",
    "$t_{atTotal} = 20ns x 5 = 100ns$\n",
    "\n",
    "$f = \\frac{1}{t_{atTotal}}$\n",
    "\n",
    "$f = \\frac{1}{100ns}$\n",
    "\n",
    "$f =10 MHz$"
   ]
  },
  {
   "cell_type": "markdown",
   "metadata": {
    "id": "62wcQsBIwo2y"
   },
   "source": [
    "2. Projete um contador assíncrono de módulo 8 que possa contar de maneira crescente ou decrescente.\n",
    "\n",
    "**Solução:**\n",
    "\n",
    "\n",
    "![](img/cont_assinc_up_down.png)\n"
   ]
  },
  {
   "cell_type": "markdown",
   "metadata": {},
   "source": [
    "3. Projete um contador síncrono usando FFs J-K que tenha a seguinte sequência: 000, 010, 101, 110 e repete. Os estados indesejáveis (não usados) 001, 011, 100 e 111 não possuem restrição; ou seja, seus PRÓXIMOS estados podem ser de irrelevância. \n",
    "\n",
    "**Solução:**\n",
    "\n",
    "![](img/proj_contador_3_bits_sinc_A.png)\n",
    "![](img/cont_sinc_3_bits_A.png)"
   ]
  },
  {
   "cell_type": "markdown",
   "metadata": {
    "id": "y3DtC-PCoHRf"
   },
   "source": [
    "\n",
    "4. Determinada memória tem capacidade de 64K × 8.\n",
    "\n",
    "**Solução:**\n",
    "\n",
    "(a) Quantas linhas de entradas e de saídas de dados ela tem? *8 bits*\n",
    "\n",
    "(b) Quantos bits especificam um dos endereços desta memória?\n",
    "\n",
    "endereços = 64k = $2^6.2^{10} = 2^{16}$, com 16 bits\n"
   ]
  },
  {
   "cell_type": "markdown",
   "metadata": {},
   "source": [
    "5. Utilize dois contadores de 4 bits e construa um circuito para que a frequência de saída deste circuito seja de 100 kHz. Dado o clock de 6 MHz! \n",
    "\n",
    "**Solução:**\n",
    "\n",
    "Como a frequencia final é $\\frac{1}{60}$ da frequencia inicial. Pode-se conseguir combinando os contadores com divisores (15, 4), (10, 6) ou (12,5)!"
   ]
  },
  {
   "cell_type": "code",
   "execution_count": 13,
   "metadata": {},
   "outputs": [
    {
     "name": "stdout",
     "output_type": "stream",
     "text": [
      "6.00e+01\n",
      "6.00e+05\n",
      "1.00e+05\n"
     ]
    }
   ],
   "source": [
    "# Primeiro contador - Modulo 16\n",
    "f = 6e6\n",
    "f1 = f/10\n",
    "f2 = f1/6\n",
    "dividir = f /100e3\n",
    "print(f'{dividir:.2e}')\n",
    "print(f'{f1:.2e}')\n",
    "print(f'{f2:.2e}')"
   ]
  },
  {
   "cell_type": "markdown",
   "metadata": {},
   "source": [
    "6. Como se apaga uma EPROM?\n",
    "\n",
    "**Solução:**\n",
    "\n",
    "Expondo-a à luz ultravioleta"
   ]
  },
  {
   "cell_type": "markdown",
   "metadata": {},
   "source": [
    "7. Faça um circuito que permita expandir a memória de um dispositivo para 16k x 8 a partir de um bloco de memória 2k x 8. Sabe-se que o barramento deste dispositivo é de 16 bits. Precisa de um decodificador  ? \n",
    "\n",
    "**Solução:**\n",
    "\n",
    "*16 k de endereços corresponde a Oito blocos de 2 K. Estes blocos possue 11 bits para endereçamento e assim restam 5 bits, onde, com 3 bits, pode-se utilizar um decodificador 1 de Oito!*\n",
    "\n",
    "![](img/expande_memory.png)"
   ]
  },
  {
   "cell_type": "code",
   "execution_count": 1,
   "metadata": {
    "colab": {
     "base_uri": "https://localhost:8080/"
    },
    "id": "wDDUpDrIn8L5",
    "outputId": "2a30934a-96f4-4ff3-a86b-f66d3261b44e"
   },
   "outputs": [
    {
     "name": "stdout",
     "output_type": "stream",
     "text": [
      "1.25e+07\n"
     ]
    }
   ],
   "source": [
    "taFF = 20e-9\n",
    "taAND = 10e-9\n",
    "Tsinc = taFF*4# + taAND\n",
    "f = 1/Tsinc\n",
    "print(f'{f:.2e}')"
   ]
  },
  {
   "cell_type": "markdown",
   "metadata": {},
   "source": [
    "1. Determine a frequência máxima  para um contador síncrono de Módulo 32 e para um contador assíncrono de 4 bits. Dado tempo de atraso de FF ( 20 ns) e tempo de atraso de porta (10 ns). \n",
    "\n",
    "\n",
    "**Solução:**\n",
    "\n",
    "a) Síncrono  Atraso total = tpd do FF + tpd da porta AND\n",
    "\n",
    "$t_{atTotal} = 20ns + 10 ns = 30ns$\n",
    "\n",
    "$f = \\frac{1}{t_{atTotal}}$\n",
    "\n",
    "$f = \\frac{1}{30ns}$\n",
    "\n",
    "$f =33.3 MHz$\n",
    "\n",
    "\n",
    "b) Assíncrono  Atraso total = tpd do FF x N, N = 4 bits\n",
    "\n",
    "$t_{atTotal} = 20ns x 4 = 80ns$\n",
    "\n",
    "$f = \\frac{1}{t_{atTotal}}$\n",
    "\n",
    "$f = \\frac{1}{80ns}$\n",
    "\n",
    "$f =12.5 MHz$\n",
    "\n",
    "2. Projete um contador síncrono de módulo 8 que possa contar de maneira crescente ou decrescente.\n",
    "\n",
    "**Solução:**\n",
    "\n",
    "![](img/cont_sinc_up_down.png)\n",
    "\n",
    "3. Projete um contador síncrono usando FFs J-K que tenha a seguinte sequência: 000, 010, 101, 110 e repete. Os estados indesejáveis (não usados) 001, 011, 100 e 111 têm de levar o contador sempre para 000 no próximo pulso de clock.\n",
    "\n",
    "**Solução:**\n",
    "\n",
    "\n",
    "4. Determinada memória tem capacidade de 4K × 8. \n",
    " (a) Quantas linhas de entradas e de saídas de dados ela tem? \n",
    " \n",
    " **Solução:**\n",
    " \n",
    " \n",
    "(b) Quantos bits especificam um dos endereços desta memória?\n",
    "\n",
    "**Solução:**\n",
    " \n",
    "5. Utilize dois contadores de 4 bits e construa um circuito para que a frequência de saída deste circuito seja de 1 KHz. Dado o clock de 5500 KHz! \n",
    "\n",
    "**Solução:**\n",
    "\n",
    "\n",
    "6. Quais são as desvantagens da EPROM que foram superadas pela EEPROM? \n",
    "\n",
    "**Solução:**\n",
    "\n",
    "*Uma EEPROM pode ser apagada eletricamente e reprogramada sem ser removida do circuito e tem apagamento por byte.*\n",
    "\n",
    "\n",
    "7. Faça um circuito que permita expandir a memória de um dispositivo para 8k x 8 a partir de um bloco de memória 2k x 8. Sabe-se que o barramento deste dispositivo é de 16 bits. Precisa de um decodificador ?\n",
    "\n",
    "**Solução:**\n"
   ]
  },
  {
   "cell_type": "code",
   "execution_count": null,
   "metadata": {},
   "outputs": [],
   "source": []
  }
 ],
 "metadata": {
  "colab": {
   "provenance": []
  },
  "kernelspec": {
   "display_name": "Python 3",
   "language": "python",
   "name": "python3"
  },
  "language_info": {
   "codemirror_mode": {
    "name": "ipython",
    "version": 3
   },
   "file_extension": ".py",
   "mimetype": "text/x-python",
   "name": "python",
   "nbconvert_exporter": "python",
   "pygments_lexer": "ipython3",
   "version": "3.8.5"
  }
 },
 "nbformat": 4,
 "nbformat_minor": 1
}
